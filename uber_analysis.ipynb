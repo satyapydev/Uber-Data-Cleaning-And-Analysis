{
 "cells": [
  {
   "cell_type": "code",
   "execution_count": 1,
   "id": "1e71f0b4",
   "metadata": {},
   "outputs": [
    {
     "name": "stdout",
     "output_type": "stream",
     "text": [
      "Setup Complete\n"
     ]
    }
   ],
   "source": [
    "import numpy as np\n",
    "import pandas as pd\n",
    "import matplotlib.pyplot as plt\n",
    "import seaborn as sns\n",
    "import warnings\n",
    "from datetime import datetime\n",
    "\n",
    "print(\"Setup Complete\")\n",
    "\n",
    "warnings.filterwarnings(\"ignore\")"
   ]
  },
  {
   "cell_type": "code",
   "execution_count": 2,
   "id": "fa92d31f",
   "metadata": {},
   "outputs": [
    {
     "data": {
      "text/html": [
       "<div>\n",
       "<style scoped>\n",
       "    .dataframe tbody tr th:only-of-type {\n",
       "        vertical-align: middle;\n",
       "    }\n",
       "\n",
       "    .dataframe tbody tr th {\n",
       "        vertical-align: top;\n",
       "    }\n",
       "\n",
       "    .dataframe thead th {\n",
       "        text-align: right;\n",
       "    }\n",
       "</style>\n",
       "<table border=\"1\" class=\"dataframe\">\n",
       "  <thead>\n",
       "    <tr style=\"text-align: right;\">\n",
       "      <th></th>\n",
       "      <th>Date</th>\n",
       "      <th>Time</th>\n",
       "      <th>Booking ID</th>\n",
       "      <th>Booking Status</th>\n",
       "      <th>Customer ID</th>\n",
       "      <th>Vehicle Type</th>\n",
       "      <th>Pickup Location</th>\n",
       "      <th>Drop Location</th>\n",
       "      <th>Avg VTAT</th>\n",
       "      <th>Avg CTAT</th>\n",
       "      <th>...</th>\n",
       "      <th>Reason for cancelling by Customer</th>\n",
       "      <th>Cancelled Rides by Driver</th>\n",
       "      <th>Driver Cancellation Reason</th>\n",
       "      <th>Incomplete Rides</th>\n",
       "      <th>Incomplete Rides Reason</th>\n",
       "      <th>Booking Value</th>\n",
       "      <th>Ride Distance</th>\n",
       "      <th>Driver Ratings</th>\n",
       "      <th>Customer Rating</th>\n",
       "      <th>Payment Method</th>\n",
       "    </tr>\n",
       "  </thead>\n",
       "  <tbody>\n",
       "    <tr>\n",
       "      <th>0</th>\n",
       "      <td>2024-03-23</td>\n",
       "      <td>12:29:38</td>\n",
       "      <td>\"CNR5884300\"</td>\n",
       "      <td>No Driver Found</td>\n",
       "      <td>\"CID1982111\"</td>\n",
       "      <td>eBike</td>\n",
       "      <td>Palam Vihar</td>\n",
       "      <td>Jhilmil</td>\n",
       "      <td>NaN</td>\n",
       "      <td>NaN</td>\n",
       "      <td>...</td>\n",
       "      <td>NaN</td>\n",
       "      <td>NaN</td>\n",
       "      <td>NaN</td>\n",
       "      <td>NaN</td>\n",
       "      <td>NaN</td>\n",
       "      <td>NaN</td>\n",
       "      <td>NaN</td>\n",
       "      <td>NaN</td>\n",
       "      <td>NaN</td>\n",
       "      <td>NaN</td>\n",
       "    </tr>\n",
       "    <tr>\n",
       "      <th>1</th>\n",
       "      <td>2024-11-29</td>\n",
       "      <td>18:01:39</td>\n",
       "      <td>\"CNR1326809\"</td>\n",
       "      <td>Incomplete</td>\n",
       "      <td>\"CID4604802\"</td>\n",
       "      <td>Go Sedan</td>\n",
       "      <td>Shastri Nagar</td>\n",
       "      <td>Gurgaon Sector 56</td>\n",
       "      <td>4.9</td>\n",
       "      <td>14.0</td>\n",
       "      <td>...</td>\n",
       "      <td>NaN</td>\n",
       "      <td>NaN</td>\n",
       "      <td>NaN</td>\n",
       "      <td>1.0</td>\n",
       "      <td>Vehicle Breakdown</td>\n",
       "      <td>237.0</td>\n",
       "      <td>5.73</td>\n",
       "      <td>NaN</td>\n",
       "      <td>NaN</td>\n",
       "      <td>UPI</td>\n",
       "    </tr>\n",
       "    <tr>\n",
       "      <th>2</th>\n",
       "      <td>2024-08-23</td>\n",
       "      <td>08:56:10</td>\n",
       "      <td>\"CNR8494506\"</td>\n",
       "      <td>Completed</td>\n",
       "      <td>\"CID9202816\"</td>\n",
       "      <td>Auto</td>\n",
       "      <td>Khandsa</td>\n",
       "      <td>Malviya Nagar</td>\n",
       "      <td>13.4</td>\n",
       "      <td>25.8</td>\n",
       "      <td>...</td>\n",
       "      <td>NaN</td>\n",
       "      <td>NaN</td>\n",
       "      <td>NaN</td>\n",
       "      <td>NaN</td>\n",
       "      <td>NaN</td>\n",
       "      <td>627.0</td>\n",
       "      <td>13.58</td>\n",
       "      <td>4.9</td>\n",
       "      <td>4.9</td>\n",
       "      <td>Debit Card</td>\n",
       "    </tr>\n",
       "    <tr>\n",
       "      <th>3</th>\n",
       "      <td>2024-10-21</td>\n",
       "      <td>17:17:25</td>\n",
       "      <td>\"CNR8906825\"</td>\n",
       "      <td>Completed</td>\n",
       "      <td>\"CID2610914\"</td>\n",
       "      <td>Premier Sedan</td>\n",
       "      <td>Central Secretariat</td>\n",
       "      <td>Inderlok</td>\n",
       "      <td>13.1</td>\n",
       "      <td>28.5</td>\n",
       "      <td>...</td>\n",
       "      <td>NaN</td>\n",
       "      <td>NaN</td>\n",
       "      <td>NaN</td>\n",
       "      <td>NaN</td>\n",
       "      <td>NaN</td>\n",
       "      <td>416.0</td>\n",
       "      <td>34.02</td>\n",
       "      <td>4.6</td>\n",
       "      <td>5.0</td>\n",
       "      <td>UPI</td>\n",
       "    </tr>\n",
       "    <tr>\n",
       "      <th>4</th>\n",
       "      <td>2024-09-16</td>\n",
       "      <td>22:08:00</td>\n",
       "      <td>\"CNR1950162\"</td>\n",
       "      <td>Completed</td>\n",
       "      <td>\"CID9933542\"</td>\n",
       "      <td>Bike</td>\n",
       "      <td>Ghitorni Village</td>\n",
       "      <td>Khan Market</td>\n",
       "      <td>5.3</td>\n",
       "      <td>19.6</td>\n",
       "      <td>...</td>\n",
       "      <td>NaN</td>\n",
       "      <td>NaN</td>\n",
       "      <td>NaN</td>\n",
       "      <td>NaN</td>\n",
       "      <td>NaN</td>\n",
       "      <td>737.0</td>\n",
       "      <td>48.21</td>\n",
       "      <td>4.1</td>\n",
       "      <td>4.3</td>\n",
       "      <td>UPI</td>\n",
       "    </tr>\n",
       "  </tbody>\n",
       "</table>\n",
       "<p>5 rows × 21 columns</p>\n",
       "</div>"
      ],
      "text/plain": [
       "         Date      Time    Booking ID   Booking Status   Customer ID  \\\n",
       "0  2024-03-23  12:29:38  \"CNR5884300\"  No Driver Found  \"CID1982111\"   \n",
       "1  2024-11-29  18:01:39  \"CNR1326809\"       Incomplete  \"CID4604802\"   \n",
       "2  2024-08-23  08:56:10  \"CNR8494506\"        Completed  \"CID9202816\"   \n",
       "3  2024-10-21  17:17:25  \"CNR8906825\"        Completed  \"CID2610914\"   \n",
       "4  2024-09-16  22:08:00  \"CNR1950162\"        Completed  \"CID9933542\"   \n",
       "\n",
       "    Vehicle Type      Pickup Location      Drop Location  Avg VTAT  Avg CTAT  \\\n",
       "0          eBike          Palam Vihar            Jhilmil       NaN       NaN   \n",
       "1       Go Sedan        Shastri Nagar  Gurgaon Sector 56       4.9      14.0   \n",
       "2           Auto              Khandsa      Malviya Nagar      13.4      25.8   \n",
       "3  Premier Sedan  Central Secretariat           Inderlok      13.1      28.5   \n",
       "4           Bike     Ghitorni Village        Khan Market       5.3      19.6   \n",
       "\n",
       "   ...  Reason for cancelling by Customer Cancelled Rides by Driver  \\\n",
       "0  ...                                NaN                       NaN   \n",
       "1  ...                                NaN                       NaN   \n",
       "2  ...                                NaN                       NaN   \n",
       "3  ...                                NaN                       NaN   \n",
       "4  ...                                NaN                       NaN   \n",
       "\n",
       "   Driver Cancellation Reason Incomplete Rides  Incomplete Rides Reason  \\\n",
       "0                         NaN              NaN                      NaN   \n",
       "1                         NaN              1.0        Vehicle Breakdown   \n",
       "2                         NaN              NaN                      NaN   \n",
       "3                         NaN              NaN                      NaN   \n",
       "4                         NaN              NaN                      NaN   \n",
       "\n",
       "  Booking Value  Ride Distance  Driver Ratings  Customer Rating  \\\n",
       "0           NaN            NaN             NaN              NaN   \n",
       "1         237.0           5.73             NaN              NaN   \n",
       "2         627.0          13.58             4.9              4.9   \n",
       "3         416.0          34.02             4.6              5.0   \n",
       "4         737.0          48.21             4.1              4.3   \n",
       "\n",
       "   Payment Method  \n",
       "0             NaN  \n",
       "1             UPI  \n",
       "2      Debit Card  \n",
       "3             UPI  \n",
       "4             UPI  \n",
       "\n",
       "[5 rows x 21 columns]"
      ]
     },
     "execution_count": 2,
     "metadata": {},
     "output_type": "execute_result"
    }
   ],
   "source": [
    "uber_data = pd.read_csv(\"ncr_ride_bookings.csv\")\n",
    "uber_data.head(5)"
   ]
  },
  {
   "cell_type": "code",
   "execution_count": 3,
   "id": "e3b0f479",
   "metadata": {},
   "outputs": [
    {
     "data": {
      "text/plain": [
       "(150000, 21)"
      ]
     },
     "execution_count": 3,
     "metadata": {},
     "output_type": "execute_result"
    }
   ],
   "source": [
    "uber_data.shape"
   ]
  },
  {
   "cell_type": "code",
   "execution_count": 4,
   "id": "e0cafc78",
   "metadata": {},
   "outputs": [
    {
     "name": "stdout",
     "output_type": "stream",
     "text": [
      "<class 'pandas.core.frame.DataFrame'>\n",
      "RangeIndex: 150000 entries, 0 to 149999\n",
      "Data columns (total 21 columns):\n",
      " #   Column                             Non-Null Count   Dtype  \n",
      "---  ------                             --------------   -----  \n",
      " 0   Date                               150000 non-null  object \n",
      " 1   Time                               150000 non-null  object \n",
      " 2   Booking ID                         150000 non-null  object \n",
      " 3   Booking Status                     150000 non-null  object \n",
      " 4   Customer ID                        150000 non-null  object \n",
      " 5   Vehicle Type                       150000 non-null  object \n",
      " 6   Pickup Location                    150000 non-null  object \n",
      " 7   Drop Location                      150000 non-null  object \n",
      " 8   Avg VTAT                           139500 non-null  float64\n",
      " 9   Avg CTAT                           102000 non-null  float64\n",
      " 10  Cancelled Rides by Customer        10500 non-null   float64\n",
      " 11  Reason for cancelling by Customer  10500 non-null   object \n",
      " 12  Cancelled Rides by Driver          27000 non-null   float64\n",
      " 13  Driver Cancellation Reason         27000 non-null   object \n",
      " 14  Incomplete Rides                   9000 non-null    float64\n",
      " 15  Incomplete Rides Reason            9000 non-null    object \n",
      " 16  Booking Value                      102000 non-null  float64\n",
      " 17  Ride Distance                      102000 non-null  float64\n",
      " 18  Driver Ratings                     93000 non-null   float64\n",
      " 19  Customer Rating                    93000 non-null   float64\n",
      " 20  Payment Method                     102000 non-null  object \n",
      "dtypes: float64(9), object(12)\n",
      "memory usage: 24.0+ MB\n"
     ]
    }
   ],
   "source": [
    "uber_data.info()"
   ]
  },
  {
   "cell_type": "code",
   "execution_count": 5,
   "id": "9cffaf43",
   "metadata": {},
   "outputs": [
    {
     "data": {
      "text/html": [
       "<div>\n",
       "<style scoped>\n",
       "    .dataframe tbody tr th:only-of-type {\n",
       "        vertical-align: middle;\n",
       "    }\n",
       "\n",
       "    .dataframe tbody tr th {\n",
       "        vertical-align: top;\n",
       "    }\n",
       "\n",
       "    .dataframe thead th {\n",
       "        text-align: right;\n",
       "    }\n",
       "</style>\n",
       "<table border=\"1\" class=\"dataframe\">\n",
       "  <thead>\n",
       "    <tr style=\"text-align: right;\">\n",
       "      <th></th>\n",
       "      <th>Avg VTAT</th>\n",
       "      <th>Avg CTAT</th>\n",
       "      <th>Cancelled Rides by Customer</th>\n",
       "      <th>Cancelled Rides by Driver</th>\n",
       "      <th>Incomplete Rides</th>\n",
       "      <th>Booking Value</th>\n",
       "      <th>Ride Distance</th>\n",
       "      <th>Driver Ratings</th>\n",
       "      <th>Customer Rating</th>\n",
       "    </tr>\n",
       "  </thead>\n",
       "  <tbody>\n",
       "    <tr>\n",
       "      <th>count</th>\n",
       "      <td>139500.000000</td>\n",
       "      <td>102000.000000</td>\n",
       "      <td>10500.0</td>\n",
       "      <td>27000.0</td>\n",
       "      <td>9000.0</td>\n",
       "      <td>102000.000000</td>\n",
       "      <td>102000.000000</td>\n",
       "      <td>93000.000000</td>\n",
       "      <td>93000.000000</td>\n",
       "    </tr>\n",
       "    <tr>\n",
       "      <th>mean</th>\n",
       "      <td>8.456352</td>\n",
       "      <td>29.149636</td>\n",
       "      <td>1.0</td>\n",
       "      <td>1.0</td>\n",
       "      <td>1.0</td>\n",
       "      <td>508.295912</td>\n",
       "      <td>24.637012</td>\n",
       "      <td>4.230992</td>\n",
       "      <td>4.404584</td>\n",
       "    </tr>\n",
       "    <tr>\n",
       "      <th>std</th>\n",
       "      <td>3.773564</td>\n",
       "      <td>8.902577</td>\n",
       "      <td>0.0</td>\n",
       "      <td>0.0</td>\n",
       "      <td>0.0</td>\n",
       "      <td>395.805774</td>\n",
       "      <td>14.002138</td>\n",
       "      <td>0.436871</td>\n",
       "      <td>0.437819</td>\n",
       "    </tr>\n",
       "    <tr>\n",
       "      <th>min</th>\n",
       "      <td>2.000000</td>\n",
       "      <td>10.000000</td>\n",
       "      <td>1.0</td>\n",
       "      <td>1.0</td>\n",
       "      <td>1.0</td>\n",
       "      <td>50.000000</td>\n",
       "      <td>1.000000</td>\n",
       "      <td>3.000000</td>\n",
       "      <td>3.000000</td>\n",
       "    </tr>\n",
       "    <tr>\n",
       "      <th>25%</th>\n",
       "      <td>5.300000</td>\n",
       "      <td>21.600000</td>\n",
       "      <td>1.0</td>\n",
       "      <td>1.0</td>\n",
       "      <td>1.0</td>\n",
       "      <td>234.000000</td>\n",
       "      <td>12.460000</td>\n",
       "      <td>4.100000</td>\n",
       "      <td>4.200000</td>\n",
       "    </tr>\n",
       "    <tr>\n",
       "      <th>50%</th>\n",
       "      <td>8.300000</td>\n",
       "      <td>28.800000</td>\n",
       "      <td>1.0</td>\n",
       "      <td>1.0</td>\n",
       "      <td>1.0</td>\n",
       "      <td>414.000000</td>\n",
       "      <td>23.720000</td>\n",
       "      <td>4.300000</td>\n",
       "      <td>4.500000</td>\n",
       "    </tr>\n",
       "    <tr>\n",
       "      <th>75%</th>\n",
       "      <td>11.300000</td>\n",
       "      <td>36.800000</td>\n",
       "      <td>1.0</td>\n",
       "      <td>1.0</td>\n",
       "      <td>1.0</td>\n",
       "      <td>689.000000</td>\n",
       "      <td>36.820000</td>\n",
       "      <td>4.600000</td>\n",
       "      <td>4.800000</td>\n",
       "    </tr>\n",
       "    <tr>\n",
       "      <th>max</th>\n",
       "      <td>20.000000</td>\n",
       "      <td>45.000000</td>\n",
       "      <td>1.0</td>\n",
       "      <td>1.0</td>\n",
       "      <td>1.0</td>\n",
       "      <td>4277.000000</td>\n",
       "      <td>50.000000</td>\n",
       "      <td>5.000000</td>\n",
       "      <td>5.000000</td>\n",
       "    </tr>\n",
       "  </tbody>\n",
       "</table>\n",
       "</div>"
      ],
      "text/plain": [
       "            Avg VTAT       Avg CTAT  Cancelled Rides by Customer  \\\n",
       "count  139500.000000  102000.000000                      10500.0   \n",
       "mean        8.456352      29.149636                          1.0   \n",
       "std         3.773564       8.902577                          0.0   \n",
       "min         2.000000      10.000000                          1.0   \n",
       "25%         5.300000      21.600000                          1.0   \n",
       "50%         8.300000      28.800000                          1.0   \n",
       "75%        11.300000      36.800000                          1.0   \n",
       "max        20.000000      45.000000                          1.0   \n",
       "\n",
       "       Cancelled Rides by Driver  Incomplete Rides  Booking Value  \\\n",
       "count                    27000.0            9000.0  102000.000000   \n",
       "mean                         1.0               1.0     508.295912   \n",
       "std                          0.0               0.0     395.805774   \n",
       "min                          1.0               1.0      50.000000   \n",
       "25%                          1.0               1.0     234.000000   \n",
       "50%                          1.0               1.0     414.000000   \n",
       "75%                          1.0               1.0     689.000000   \n",
       "max                          1.0               1.0    4277.000000   \n",
       "\n",
       "       Ride Distance  Driver Ratings  Customer Rating  \n",
       "count  102000.000000    93000.000000     93000.000000  \n",
       "mean       24.637012        4.230992         4.404584  \n",
       "std        14.002138        0.436871         0.437819  \n",
       "min         1.000000        3.000000         3.000000  \n",
       "25%        12.460000        4.100000         4.200000  \n",
       "50%        23.720000        4.300000         4.500000  \n",
       "75%        36.820000        4.600000         4.800000  \n",
       "max        50.000000        5.000000         5.000000  "
      ]
     },
     "execution_count": 5,
     "metadata": {},
     "output_type": "execute_result"
    }
   ],
   "source": [
    "uber_data.describe()"
   ]
  },
  {
   "cell_type": "markdown",
   "id": "687449b8",
   "metadata": {},
   "source": [
    "Handling NaN values"
   ]
  },
  {
   "cell_type": "code",
   "execution_count": 6,
   "id": "0d63f6cb",
   "metadata": {},
   "outputs": [
    {
     "data": {
      "text/plain": [
       "Date                                      0\n",
       "Time                                      0\n",
       "Booking ID                                0\n",
       "Booking Status                            0\n",
       "Customer ID                               0\n",
       "Vehicle Type                              0\n",
       "Pickup Location                           0\n",
       "Drop Location                             0\n",
       "Avg VTAT                              10500\n",
       "Avg CTAT                              48000\n",
       "Cancelled Rides by Customer          139500\n",
       "Reason for cancelling by Customer    139500\n",
       "Cancelled Rides by Driver            123000\n",
       "Driver Cancellation Reason           123000\n",
       "Incomplete Rides                     141000\n",
       "Incomplete Rides Reason              141000\n",
       "Booking Value                         48000\n",
       "Ride Distance                         48000\n",
       "Driver Ratings                        57000\n",
       "Customer Rating                       57000\n",
       "Payment Method                        48000\n",
       "dtype: int64"
      ]
     },
     "execution_count": 6,
     "metadata": {},
     "output_type": "execute_result"
    }
   ],
   "source": [
    "uber_data.isnull().sum() #Veryfying the the NaN values per column"
   ]
  },
  {
   "cell_type": "code",
   "execution_count": 7,
   "id": "ad6b6cf1",
   "metadata": {},
   "outputs": [],
   "source": [
    "uber_data['Reason for cancelling by Customer'] = uber_data['Reason for cancelling by Customer'].fillna('Uknown')\n",
    "uber_data['Driver Cancellation Reason'] = uber_data['Driver Cancellation Reason'].fillna('Uknown')\n",
    "uber_data['Incomplete Rides Reason'] = uber_data['Incomplete Rides Reason'].fillna('Uknown')\n",
    "uber_data['Payment Method'] = uber_data['Payment Method'].fillna('Uknown')\n",
    "uber_data['Avg VTAT'] = uber_data['Avg VTAT'].fillna(0)\n",
    "uber_data['Avg CTAT'] = uber_data['Avg CTAT'].fillna(0)\n",
    "uber_data['Cancelled Rides by Customer'] = uber_data['Cancelled Rides by Customer'].fillna(0)\n",
    "uber_data['Cancelled Rides by Driver'] = uber_data['Cancelled Rides by Driver'].fillna(0)\n",
    "uber_data['Incomplete Rides'] = uber_data['Incomplete Rides'].fillna(0)\n",
    "uber_data['Booking Value'] = uber_data['Booking Value'].fillna(0)\n",
    "uber_data['Ride Distance'] = uber_data['Ride Distance'].fillna(0)\n",
    "uber_data['Driver Ratings'] = uber_data['Driver Ratings'].fillna(0)\n",
    "uber_data['Customer Rating'] = uber_data['Customer Rating'].fillna(0)"
   ]
  },
  {
   "cell_type": "code",
   "execution_count": 8,
   "id": "bf38c63d",
   "metadata": {},
   "outputs": [
    {
     "data": {
      "text/plain": [
       "Date                                 0\n",
       "Time                                 0\n",
       "Booking ID                           0\n",
       "Booking Status                       0\n",
       "Customer ID                          0\n",
       "Vehicle Type                         0\n",
       "Pickup Location                      0\n",
       "Drop Location                        0\n",
       "Avg VTAT                             0\n",
       "Avg CTAT                             0\n",
       "Cancelled Rides by Customer          0\n",
       "Reason for cancelling by Customer    0\n",
       "Cancelled Rides by Driver            0\n",
       "Driver Cancellation Reason           0\n",
       "Incomplete Rides                     0\n",
       "Incomplete Rides Reason              0\n",
       "Booking Value                        0\n",
       "Ride Distance                        0\n",
       "Driver Ratings                       0\n",
       "Customer Rating                      0\n",
       "Payment Method                       0\n",
       "dtype: int64"
      ]
     },
     "execution_count": 8,
     "metadata": {},
     "output_type": "execute_result"
    }
   ],
   "source": [
    "uber_data.isnull().sum()  #verifying again, to make sure we didn't miss any NaN value per column"
   ]
  },
  {
   "cell_type": "markdown",
   "id": "5fc65282",
   "metadata": {},
   "source": [
    "Updating the column type to the Data type\n",
    "\n"
   ]
  },
  {
   "cell_type": "code",
   "execution_count": 10,
   "id": "b6a24459",
   "metadata": {},
   "outputs": [],
   "source": [
    "uber_data['Date'] = pd.to_datetime(uber_data['Date'],errors='coerce')\n",
    "uber_data['Booking ID'] = uber_data['Booking ID'].astype('string')\n",
    "uber_data['Booking Status'] = uber_data['Booking Status'].astype('string')\n",
    "uber_data['Customer ID'] = uber_data['Customer ID'].astype('string') \n",
    "uber_data['Vehicle Type'] = uber_data['Vehicle Type'].astype('string') \n",
    "uber_data['Pickup Location'] = uber_data['Pickup Location'].astype('string') \n",
    "uber_data['Drop Location'] = uber_data['Drop Location'].astype('string') \n",
    "uber_data['Driver Cancellation Reason'] = uber_data['Driver Cancellation Reason'].astype('string') \n",
    "uber_data['Cancelled Rides by Customer'] = uber_data['Cancelled Rides by Customer'].astype('int') \n",
    "uber_data['Reason for cancelling by Customer'] = uber_data['Reason for cancelling by Customer'].astype('string') \n",
    "uber_data['Cancelled Rides by Driver'] = uber_data['Cancelled Rides by Driver'].astype('int') \n",
    "uber_data['Driver Cancellation Reason'] = uber_data['Driver Cancellation Reason'].astype('string')\n",
    "uber_data['Incomplete Rides'] = uber_data['Incomplete Rides'].astype('int') \n",
    "uber_data['Incomplete Rides Reason'] = uber_data['Incomplete Rides Reason'].astype('string') \n",
    "uber_data['Booking Value'] = uber_data['Booking Value'].astype('int') \n",
    "uber_data['Payment Method'] = uber_data['Payment Method'].astype('string') "
   ]
  },
  {
   "cell_type": "code",
   "execution_count": 11,
   "id": "a9cced86",
   "metadata": {},
   "outputs": [
    {
     "name": "stdout",
     "output_type": "stream",
     "text": [
      "<class 'pandas.core.frame.DataFrame'>\n",
      "RangeIndex: 150000 entries, 0 to 149999\n",
      "Data columns (total 21 columns):\n",
      " #   Column                             Non-Null Count   Dtype         \n",
      "---  ------                             --------------   -----         \n",
      " 0   Date                               150000 non-null  datetime64[ns]\n",
      " 1   Time                               150000 non-null  object        \n",
      " 2   Booking ID                         150000 non-null  string        \n",
      " 3   Booking Status                     150000 non-null  string        \n",
      " 4   Customer ID                        150000 non-null  string        \n",
      " 5   Vehicle Type                       150000 non-null  string        \n",
      " 6   Pickup Location                    150000 non-null  string        \n",
      " 7   Drop Location                      150000 non-null  string        \n",
      " 8   Avg VTAT                           150000 non-null  float64       \n",
      " 9   Avg CTAT                           150000 non-null  float64       \n",
      " 10  Cancelled Rides by Customer        150000 non-null  int64         \n",
      " 11  Reason for cancelling by Customer  150000 non-null  string        \n",
      " 12  Cancelled Rides by Driver          150000 non-null  int64         \n",
      " 13  Driver Cancellation Reason         150000 non-null  string        \n",
      " 14  Incomplete Rides                   150000 non-null  int64         \n",
      " 15  Incomplete Rides Reason            150000 non-null  string        \n",
      " 16  Booking Value                      150000 non-null  int64         \n",
      " 17  Ride Distance                      150000 non-null  float64       \n",
      " 18  Driver Ratings                     150000 non-null  float64       \n",
      " 19  Customer Rating                    150000 non-null  float64       \n",
      " 20  Payment Method                     150000 non-null  string        \n",
      "dtypes: datetime64[ns](1), float64(5), int64(4), object(1), string(10)\n",
      "memory usage: 24.0+ MB\n"
     ]
    }
   ],
   "source": [
    "uber_data.info()"
   ]
  },
  {
   "cell_type": "markdown",
   "id": "6723bf68",
   "metadata": {},
   "source": [
    "Exploring the Database for KPIs and Metrics\n",
    "\n",
    "KPI : Key Performance Indicators\n",
    "\n",
    "It means:\n",
    "\n",
    "Looking beyond raw rows/columns.\n",
    "\n",
    "Asking: “What business/operational insights can we measure here?”\n",
    "\n",
    "Summarizing the dataset into meaningful numbers → KPIs."
   ]
  },
  {
   "cell_type": "markdown",
   "id": "cc58c942",
   "metadata": {},
   "source": [
    "Key Operational Performance Indicators\n",
    "Operational Performance Indicators refer to metrics that measure the efficiency and effectiveness of a company's day-to-day operations. For a company like Uber, these indicators look at how well the service is performing—covering factors, they provide insight into the operational health of the company and identify areas for improvement or optimization."
   ]
  },
  {
   "cell_type": "code",
   "execution_count": 12,
   "id": "69ed60ba",
   "metadata": {},
   "outputs": [
    {
     "data": {
      "text/plain": [
       "<StringArray>\n",
       "[      'No Driver Found',            'Incomplete',             'Completed',\n",
       "   'Cancelled by Driver', 'Cancelled by Customer']\n",
       "Length: 5, dtype: string"
      ]
     },
     "execution_count": 12,
     "metadata": {},
     "output_type": "execute_result"
    }
   ],
   "source": [
    "uber_data['Booking Status'].unique()"
   ]
  },
  {
   "cell_type": "markdown",
   "id": "96b7a71b",
   "metadata": {},
   "source": [
    "Number of Rides Completed\n",
    "\n",
    "\n",
    "What It Is: Total number of rides completed measures the total count of rides successfully carried out and completed on the platform. This includes rides where passengers were picked up and dropped off at their intended destination.\n",
    "\n",
    "Why this KPI is important: This KPI serves as a fundamental indicator of the operational scale and market demand for the service. A higher number of completed rides demonstrates strong customer engagement, the effectiveness of the driver network, and platform reliability. It also plays a crucial role in evaluating region-specific performance and identifying areas of growth or improvement.\n",
    "\n"
   ]
  },
  {
   "cell_type": "code",
   "execution_count": 24,
   "id": "811db221",
   "metadata": {},
   "outputs": [
    {
     "name": "stdout",
     "output_type": "stream",
     "text": [
      "Total rides completed: 150000\n",
      "Number of Rides Completed: 93000\n"
     ]
    }
   ],
   "source": [
    "#calculating no of rides completed\n",
    "total_rides_done = len(uber_data) #total number of rides\n",
    "print(f\"Total rides completed: {total_rides_done}\")\n",
    "\n",
    "rides_completed = (uber_data['Booking Status'] == 'Completed').sum()\n",
    "\n",
    "print(f\"Number of Rides Completed: {rides_completed}\")\n"
   ]
  },
  {
   "cell_type": "code",
   "execution_count": 14,
   "id": "c74b66a1",
   "metadata": {},
   "outputs": [
    {
     "name": "stdout",
     "output_type": "stream",
     "text": [
      "Success Rate: 62.00%\n"
     ]
    }
   ],
   "source": [
    "# calculating percentage \n",
    "success_rate = (rides_completed/total_rides_done)*100\n",
    "print(f'Success Rate: {success_rate:.2f}%')"
   ]
  },
  {
   "cell_type": "markdown",
   "id": "8fe89247",
   "metadata": {},
   "source": [
    "Average Wait Time\n",
    "\n",
    "What It Is: The Average Wait Time indicates the average time passengers wait for a driver to arrive at the pickup location after requesting a ride.\n",
    "\n",
    "Why this KPI is important: This KPI is a critical measure of the platform's efficiency and customer satisfaction. Lower average wait times suggest high driver availability and a well-optimized matching system, leading to better user experiences. Additionally, it helps identify areas where demand outstrips supply, guiding resource allocation and strategic decision-making. Prolonged wait times could indicate inefficiencies in specific regions or times of day, signaling the need for operational improvements such as driver incentives or better routing algorithms."
   ]
  },
  {
   "cell_type": "code",
   "execution_count": 16,
   "id": "0f127a20",
   "metadata": {},
   "outputs": [
    {
     "name": "stdout",
     "output_type": "stream",
     "text": [
      "Average Wait Time: 7.86\n"
     ]
    }
   ],
   "source": [
    "# Calculating AVG WAIT TIME \n",
    "avg_wait_time = np.mean(uber_data['Avg VTAT'])\n",
    "print(f\"Average Wait Time: {avg_wait_time:.2f}\")"
   ]
  },
  {
   "cell_type": "markdown",
   "id": "91483d8a",
   "metadata": {},
   "source": [
    "Average Trip Duration\n",
    "\n",
    "What It Is: The Average Trip Duration measures the average time taken for trips starting from the passenger's pickup location to the drop-off location. It provides an overview of how long rides typically take on the platform\n",
    "\n",
    "Why this KPI is important: This KPI is crucial for analyzing operational and routing efficiency. Longer trip durations can indicate traffic congestion, inefficient routing, or complex rides (e.g., multiple stops)."
   ]
  },
  {
   "cell_type": "code",
   "execution_count": 17,
   "id": "b7b03ee6",
   "metadata": {},
   "outputs": [
    {
     "name": "stdout",
     "output_type": "stream",
     "text": [
      "Average Trip Duration: 30.03 minutes\n"
     ]
    }
   ],
   "source": [
    "#calculating avg trip duration\n",
    "completed_rides = uber_data[uber_data['Booking Status'] == 'Completed']  #filtering just the completed rides\n",
    "total_trip_duration = completed_rides['Avg CTAT'].sum() #sum all's ride trip duration\n",
    "\n",
    "avg_trip_duration = total_trip_duration / completed_rides.shape[0]\n",
    "print(f\"Average Trip Duration: {avg_trip_duration:.2f} minutes\")"
   ]
  },
  {
   "cell_type": "markdown",
   "id": "867ae5ba",
   "metadata": {},
   "source": [
    "Average Ride Distance\n",
    "\n",
    "What It Is: Average Ride Distance is a key operational metric that calculates the average distance traveled per ride within a given timeframe (e.g., daily, monthly, or annually).\n",
    "\n",
    "Why this KPI is important: This metric provides insights into ride patterns and helps evaluate service coverage, efficiency, and geographic demand."
   ]
  },
  {
   "cell_type": "code",
   "execution_count": 21,
   "id": "6ee83b28",
   "metadata": {},
   "outputs": [
    {
     "name": "stdout",
     "output_type": "stream",
     "text": [
      "Average Ride Distance: 26.00 Kilometers\n"
     ]
    }
   ],
   "source": [
    "#calucation avg ride\n",
    "completed_rides = uber_data[uber_data['Booking Status'] == 'Completed'] # filtering complted ride only\n",
    "total_ride_distance = completed_rides['Ride Distance'].sum()\n",
    "\n",
    "avg_ride_distance = total_ride_distance / completed_rides.shape[0]\n",
    "print(f\"Average Ride Distance: {avg_ride_distance:.2f} Kilometers\")"
   ]
  },
  {
   "cell_type": "markdown",
   "id": "f562bd51",
   "metadata": {},
   "source": [
    "Cancellation Rate\n",
    "\n",
    "What It Is: The Cancellation Rate measures the percentage of ride requests canceled by either drivers or passengers relative to the total number of ride requests made.\n",
    "\n",
    "Why this KPI is important: This KPI is a direct indicator of customer and driver satisfaction, as well as operational efficiency. Monitoring this KPI allows the platform to identify areas impacting cancellations and implement targeted strategies to reduce them, such as optimizing matching efficiency, incentivizing driver availability, or improving communication channels."
   ]
  },
  {
   "cell_type": "code",
   "execution_count": 26,
   "id": "5a09ed0f",
   "metadata": {},
   "outputs": [
    {
     "name": "stdout",
     "output_type": "stream",
     "text": [
      "Total number of rides cancelled: 37500\n",
      "Cancellation Rate: 25.00% \n"
     ]
    }
   ],
   "source": [
    "# Calculation on cacelled raids\n",
    "ride_cancelled = (\n",
    "    uber_data['Cancelled Rides by Customer'].sum()+\n",
    "    uber_data['Cancelled Rides by Driver'].sum()\n",
    ") # number of rides cancelled\n",
    "\n",
    "print(f\"Total number of rides cancelled: {ride_cancelled}\")\n",
    "cancellation_rate = (ride_cancelled/total_rides_done)*100\n",
    "print(f\"Cancellation Rate: {cancellation_rate:.2f}% \")\n"
   ]
  },
  {
   "cell_type": "markdown",
   "id": "b37e55fd",
   "metadata": {},
   "source": [
    "Is the cancellation rate higher for passengers or drivers?\n"
   ]
  },
  {
   "cell_type": "code",
   "execution_count": 27,
   "id": "470f3323",
   "metadata": {},
   "outputs": [
    {
     "name": "stdout",
     "output_type": "stream",
     "text": [
      "Cancellation Rate by Customer: 7.00%\n",
      "Cancellation Rate by Driver: 18.00%\n"
     ]
    }
   ],
   "source": [
    "print(f\"Cancellation Rate by Customer: {(uber_data['Cancelled Rides by Customer'].sum()/total_rides_done)*100:.2f}%\")\n",
    "print(f\"Cancellation Rate by Driver: {(uber_data['Cancelled Rides by Driver'].sum()/total_rides_done)*100:.2f}%\")\n"
   ]
  },
  {
   "cell_type": "markdown",
   "id": "61b94baf",
   "metadata": {},
   "source": [
    "User Retention and Engagement Indicators¶\n",
    "\n",
    "Retention and engagement indicators are fundamental metrics for evaluating the performance of a platform or service. They help to understand how users are interacting with the product, whether they are satisfied enough to continue using it, and their frequency of use.\n",
    "\n",
    "Retention Rate\n",
    "What It Is: The Retention Rate measures the percentage of users who return to the service after their first usage. This indicator is essential for understanding user loyalty, particularly in the early stages of interaction with the platform.\n",
    "\n",
    "Why this KPI is important: Retention Rate reflects the platform's ability to create a lasting positive impression and sustain user interest after the initial experience. A high retention rate suggests that users find value in your service and are likely to become long-term customers. Conversely, a low retention rate may indicate issues with onboarding, user experience, or perceived value."
   ]
  },
  {
   "cell_type": "code",
   "execution_count": 35,
   "id": "93101401",
   "metadata": {},
   "outputs": [
    {
     "name": "stdout",
     "output_type": "stream",
     "text": [
      "Retention Rate: 0.81\n"
     ]
    }
   ],
   "source": [
    "# calculating retention rate\n",
    "uber_data['First Usage']=uber_data.groupby('Customer ID')['Date'].transform('min') #calculate first use date of user\n",
    "uber_data['Last Usage']=uber_data.groupby('Customer ID')['Date'].transform('max') #calculate last use of user\n",
    "uber_data['Events After First Usage'] = uber_data.groupby('Customer ID')['Date'].transform('count') #identifying for each user if have more than 1 time\n",
    "\n",
    "retained_user = uber_data[uber_data['Events After First Usage']>1]['Customer ID'].nunique() # identifying unique users\n",
    "first_users = uber_data['Customer ID'].nunique() #identifying the unique users\n",
    "\n",
    "retention_rate = (retained_user / first_users)*100 #calculating retention rate\n",
    "print(f\"Retention Rate: {retention_rate:.2f}\")\n"
   ]
  },
  {
   "cell_type": "markdown",
   "id": "99bdf5ee",
   "metadata": {},
   "source": [
    "Monthly Active Users (MAU)\n",
    "\n",
    "What It Is: The Monthly Active Users (MAU) metric measures the number of unique users who interact with the platform at least once during a specific month. It identifies how many users actively engage with the platform within the given time frame.\n",
    "\n",
    "Why this KPI is important: Giving a complete view of how the platform is sustaining user interest over time. A growing or steady MAU can indicate customer loyalty and user satisfaction, while a decline suggests potential issues with retention or usability."
   ]
  },
  {
   "cell_type": "code",
   "execution_count": 36,
   "id": "ae7e92e1",
   "metadata": {},
   "outputs": [
    {
     "name": "stdout",
     "output_type": "stream",
     "text": [
      "Monthly Active Users - 2024 Month\n",
      "2024-01    12858\n",
      "2024-02    11915\n",
      "2024-03    12708\n",
      "2024-04    12192\n",
      "2024-05    12764\n",
      "2024-06    12433\n",
      "2024-07    12889\n",
      "2024-08    12628\n",
      "2024-09    12239\n",
      "2024-10    12643\n",
      "2024-11    12389\n",
      "2024-12    12241\n",
      "Freq: M, Name: Customer ID, dtype: int64\n"
     ]
    }
   ],
   "source": [
    "# Calculating Monthly Active Users\n",
    "\n",
    "uber_data['Month'] = uber_data['Date'].dt.to_period('M')\n",
    "mau = uber_data.groupby('Month')['Customer ID'].nunique()\n",
    "\n",
    "print(f\"Monthly Active Users - 2024 {mau}\")"
   ]
  },
  {
   "cell_type": "markdown",
   "id": "2b362aac",
   "metadata": {},
   "source": [
    "Financial Indicators¶\n",
    "\n",
    "Financial indicators are essential metrics for assessing the economic performance of a platform or business. They provide insights into revenue generation, profitability, and operational efficiency, helping organizations evaluate their financial health and identify areas for improvement. These metrics are crucial for understanding how effectively a company is monetizing its user base and services, while also supporting strategic decision-making processes.\n",
    "\n",
    "Average Revenue Per Ride\n",
    "What It Is: The Average Revenue Per Ride gauges how much revenue is generated on average per completed ride. This metric focuses on transactional value rather than user-specific contributions.\n",
    "\n",
    "Why this KPI is important: Helps evaluate if the pricing model for rides meets profitability goals. Identifies whether rides are generating sufficient revenue."
   ]
  },
  {
   "cell_type": "code",
   "execution_count": 39,
   "id": "39c2702e",
   "metadata": {},
   "outputs": [
    {
     "name": "stdout",
     "output_type": "stream",
     "text": [
      "Total Revenue: ₹51846183.00\n",
      "Average revenue per Ride: ₹345.64\n"
     ]
    }
   ],
   "source": [
    "# calculate avg revenue per ride\n",
    "\n",
    "revenue_ride = uber_data['Booking Value'].sum() / total_rides_done\n",
    "print(f\"Total Revenue: ₹{uber_data['Booking Value'].sum():.2f}\")\n",
    "print(f\"Average revenue per Ride: ₹{revenue_ride:.2f}\")"
   ]
  },
  {
   "cell_type": "markdown",
   "id": "008ca5ae",
   "metadata": {},
   "source": [
    "Average Revenue Per User\n",
    "\n",
    "What It Is: The Average Revenue Per User (ARPU) measures the average amount of revenue generated per user within a specific time frame, such as monthly or yearly.\n",
    "\n",
    "Why this KPI is important: It helps understand how much revenue each user contributes to your business, providing insights into overall profitability."
   ]
  },
  {
   "cell_type": "code",
   "execution_count": 40,
   "id": "ca02355e",
   "metadata": {},
   "outputs": [
    {
     "name": "stdout",
     "output_type": "stream",
     "text": [
      "Average Revenue Per User(ARPU): ₹348.46\n"
     ]
    }
   ],
   "source": [
    "# calculating avg revenue per user\n",
    "\n",
    "arpu = uber_data['Booking Value'].sum() / uber_data['Customer ID'].nunique()\n",
    "print(f\"Average Revenue Per User(ARPU): ₹{arpu:.2f}\")"
   ]
  },
  {
   "cell_type": "markdown",
   "id": "0bac1d37",
   "metadata": {},
   "source": [
    "Customer and Driver Experience and Satisfaction Indicators\n",
    "\n",
    "Experience and satisfaction indicators are essential metrics for assessing the quality of interactions users and drivers have with a platform or service. These metrics provide insights into how well the platform meets the expectations of its customers and drivers, whether they feel valued, and their overall level of contentment. By evaluating these indicators, businesses can identify strengths and areas for improvement, ensuring both groups are satisfied and engaged.\n",
    "\n",
    "Driver Average Ratings \n",
    "\n",
    "What It Is: Driver Average Ratings measure the overall satisfaction of customers with the service provided by drivers based on their feedback. Ratings are typically given on a scale of 1 to 5 stars, and this metric reflects the quality of the drivers' performance in aspects such as professionalism, punctuality, cleanliness, and overall experience.\n",
    "\n",
    "Why this KPI is important: Helps assess whether drivers are meeting the platform’s standards for providing exceptional service. Also, provides insights into individual driver strengths and weaknesses, supporting decisions around training or rewards"
   ]
  },
  {
   "cell_type": "code",
   "execution_count": 41,
   "id": "888721eb",
   "metadata": {},
   "outputs": [
    {
     "name": "stdout",
     "output_type": "stream",
     "text": [
      "Driver Average Ratings: 2.62 / 5 stars\n"
     ]
    }
   ],
   "source": [
    "# calucating avg driver ratings\n",
    "\n",
    "avg_driver_rating = np.mean(uber_data['Driver Ratings'])\n",
    "print(f\"Driver Average Ratings: {avg_driver_rating:.2f} / 5 stars\")"
   ]
  },
  {
   "cell_type": "markdown",
   "id": "c5019b79",
   "metadata": {},
   "source": [
    "Customer Average Ratings\n",
    "\n",
    "What It Is: Customer Average Ratings measure the overall satisfaction or behavior of customers based on feedback provided by drivers. These ratings are typically assigned on a scale of 1 to 5 stars, reflecting factors such as punctuality, politeness, and cooperation during rides.\n",
    "\n",
    "Why this KPI is important: Helps evaluate how comfortable and satisfied drivers feel while interacting with customers. Also, identifies and addresses problematic behaviors, ensuring a safe and respectful environment for drivers."
   ]
  },
  {
   "cell_type": "code",
   "execution_count": 42,
   "id": "22983d25",
   "metadata": {},
   "outputs": [
    {
     "name": "stdout",
     "output_type": "stream",
     "text": [
      "Customer Average Ratings: 2.73 / 5 stars\n"
     ]
    }
   ],
   "source": [
    "# calculating customer avg ratings\n",
    "avg_customer_ratings = np.mean(uber_data['Customer Rating'])\n",
    "print(f\"Customer Average Ratings: {avg_customer_ratings:.2f} / 5 stars\")"
   ]
  },
  {
   "cell_type": "code",
   "execution_count": 43,
   "id": "5b679a94",
   "metadata": {},
   "outputs": [
    {
     "name": "stdout",
     "output_type": "stream",
     "text": [
      "Export completed\n"
     ]
    }
   ],
   "source": [
    "uber_data.to_csv(\"Cleaned_uber_data.csv\", index=False)\n",
    "print(\"Export completed\")"
   ]
  },
  {
   "cell_type": "code",
   "execution_count": 44,
   "id": "fa98d104",
   "metadata": {},
   "outputs": [
    {
     "data": {
      "text/html": [
       "<div>\n",
       "<style scoped>\n",
       "    .dataframe tbody tr th:only-of-type {\n",
       "        vertical-align: middle;\n",
       "    }\n",
       "\n",
       "    .dataframe tbody tr th {\n",
       "        vertical-align: top;\n",
       "    }\n",
       "\n",
       "    .dataframe thead th {\n",
       "        text-align: right;\n",
       "    }\n",
       "</style>\n",
       "<table border=\"1\" class=\"dataframe\">\n",
       "  <thead>\n",
       "    <tr style=\"text-align: right;\">\n",
       "      <th></th>\n",
       "      <th>Date</th>\n",
       "      <th>Time</th>\n",
       "      <th>Booking ID</th>\n",
       "      <th>Booking Status</th>\n",
       "      <th>Customer ID</th>\n",
       "      <th>Vehicle Type</th>\n",
       "      <th>Pickup Location</th>\n",
       "      <th>Drop Location</th>\n",
       "      <th>Avg VTAT</th>\n",
       "      <th>Avg CTAT</th>\n",
       "      <th>...</th>\n",
       "      <th>Incomplete Rides Reason</th>\n",
       "      <th>Booking Value</th>\n",
       "      <th>Ride Distance</th>\n",
       "      <th>Driver Ratings</th>\n",
       "      <th>Customer Rating</th>\n",
       "      <th>Payment Method</th>\n",
       "      <th>First Usage</th>\n",
       "      <th>Last Usage</th>\n",
       "      <th>Events After First Usage</th>\n",
       "      <th>Month</th>\n",
       "    </tr>\n",
       "  </thead>\n",
       "  <tbody>\n",
       "    <tr>\n",
       "      <th>0</th>\n",
       "      <td>2024-03-23</td>\n",
       "      <td>12:29:38</td>\n",
       "      <td>\"CNR5884300\"</td>\n",
       "      <td>No Driver Found</td>\n",
       "      <td>\"CID1982111\"</td>\n",
       "      <td>eBike</td>\n",
       "      <td>Palam Vihar</td>\n",
       "      <td>Jhilmil</td>\n",
       "      <td>0.0</td>\n",
       "      <td>0.0</td>\n",
       "      <td>...</td>\n",
       "      <td>Uknown</td>\n",
       "      <td>0</td>\n",
       "      <td>0.00</td>\n",
       "      <td>0.0</td>\n",
       "      <td>0.0</td>\n",
       "      <td>Uknown</td>\n",
       "      <td>2024-03-23</td>\n",
       "      <td>2024-03-23</td>\n",
       "      <td>1</td>\n",
       "      <td>2024-03</td>\n",
       "    </tr>\n",
       "    <tr>\n",
       "      <th>1</th>\n",
       "      <td>2024-11-29</td>\n",
       "      <td>18:01:39</td>\n",
       "      <td>\"CNR1326809\"</td>\n",
       "      <td>Incomplete</td>\n",
       "      <td>\"CID4604802\"</td>\n",
       "      <td>Go Sedan</td>\n",
       "      <td>Shastri Nagar</td>\n",
       "      <td>Gurgaon Sector 56</td>\n",
       "      <td>4.9</td>\n",
       "      <td>14.0</td>\n",
       "      <td>...</td>\n",
       "      <td>Vehicle Breakdown</td>\n",
       "      <td>237</td>\n",
       "      <td>5.73</td>\n",
       "      <td>0.0</td>\n",
       "      <td>0.0</td>\n",
       "      <td>UPI</td>\n",
       "      <td>2024-11-29</td>\n",
       "      <td>2024-11-29</td>\n",
       "      <td>1</td>\n",
       "      <td>2024-11</td>\n",
       "    </tr>\n",
       "    <tr>\n",
       "      <th>2</th>\n",
       "      <td>2024-08-23</td>\n",
       "      <td>08:56:10</td>\n",
       "      <td>\"CNR8494506\"</td>\n",
       "      <td>Completed</td>\n",
       "      <td>\"CID9202816\"</td>\n",
       "      <td>Auto</td>\n",
       "      <td>Khandsa</td>\n",
       "      <td>Malviya Nagar</td>\n",
       "      <td>13.4</td>\n",
       "      <td>25.8</td>\n",
       "      <td>...</td>\n",
       "      <td>Uknown</td>\n",
       "      <td>627</td>\n",
       "      <td>13.58</td>\n",
       "      <td>4.9</td>\n",
       "      <td>4.9</td>\n",
       "      <td>Debit Card</td>\n",
       "      <td>2024-08-23</td>\n",
       "      <td>2024-08-23</td>\n",
       "      <td>1</td>\n",
       "      <td>2024-08</td>\n",
       "    </tr>\n",
       "    <tr>\n",
       "      <th>3</th>\n",
       "      <td>2024-10-21</td>\n",
       "      <td>17:17:25</td>\n",
       "      <td>\"CNR8906825\"</td>\n",
       "      <td>Completed</td>\n",
       "      <td>\"CID2610914\"</td>\n",
       "      <td>Premier Sedan</td>\n",
       "      <td>Central Secretariat</td>\n",
       "      <td>Inderlok</td>\n",
       "      <td>13.1</td>\n",
       "      <td>28.5</td>\n",
       "      <td>...</td>\n",
       "      <td>Uknown</td>\n",
       "      <td>416</td>\n",
       "      <td>34.02</td>\n",
       "      <td>4.6</td>\n",
       "      <td>5.0</td>\n",
       "      <td>UPI</td>\n",
       "      <td>2024-10-21</td>\n",
       "      <td>2024-10-21</td>\n",
       "      <td>1</td>\n",
       "      <td>2024-10</td>\n",
       "    </tr>\n",
       "    <tr>\n",
       "      <th>4</th>\n",
       "      <td>2024-09-16</td>\n",
       "      <td>22:08:00</td>\n",
       "      <td>\"CNR1950162\"</td>\n",
       "      <td>Completed</td>\n",
       "      <td>\"CID9933542\"</td>\n",
       "      <td>Bike</td>\n",
       "      <td>Ghitorni Village</td>\n",
       "      <td>Khan Market</td>\n",
       "      <td>5.3</td>\n",
       "      <td>19.6</td>\n",
       "      <td>...</td>\n",
       "      <td>Uknown</td>\n",
       "      <td>737</td>\n",
       "      <td>48.21</td>\n",
       "      <td>4.1</td>\n",
       "      <td>4.3</td>\n",
       "      <td>UPI</td>\n",
       "      <td>2024-09-16</td>\n",
       "      <td>2024-09-16</td>\n",
       "      <td>1</td>\n",
       "      <td>2024-09</td>\n",
       "    </tr>\n",
       "  </tbody>\n",
       "</table>\n",
       "<p>5 rows × 25 columns</p>\n",
       "</div>"
      ],
      "text/plain": [
       "        Date      Time    Booking ID   Booking Status   Customer ID  \\\n",
       "0 2024-03-23  12:29:38  \"CNR5884300\"  No Driver Found  \"CID1982111\"   \n",
       "1 2024-11-29  18:01:39  \"CNR1326809\"       Incomplete  \"CID4604802\"   \n",
       "2 2024-08-23  08:56:10  \"CNR8494506\"        Completed  \"CID9202816\"   \n",
       "3 2024-10-21  17:17:25  \"CNR8906825\"        Completed  \"CID2610914\"   \n",
       "4 2024-09-16  22:08:00  \"CNR1950162\"        Completed  \"CID9933542\"   \n",
       "\n",
       "    Vehicle Type      Pickup Location      Drop Location  Avg VTAT  Avg CTAT  \\\n",
       "0          eBike          Palam Vihar            Jhilmil       0.0       0.0   \n",
       "1       Go Sedan        Shastri Nagar  Gurgaon Sector 56       4.9      14.0   \n",
       "2           Auto              Khandsa      Malviya Nagar      13.4      25.8   \n",
       "3  Premier Sedan  Central Secretariat           Inderlok      13.1      28.5   \n",
       "4           Bike     Ghitorni Village        Khan Market       5.3      19.6   \n",
       "\n",
       "   ...  Incomplete Rides Reason Booking Value  Ride Distance Driver Ratings  \\\n",
       "0  ...                   Uknown             0           0.00            0.0   \n",
       "1  ...        Vehicle Breakdown           237           5.73            0.0   \n",
       "2  ...                   Uknown           627          13.58            4.9   \n",
       "3  ...                   Uknown           416          34.02            4.6   \n",
       "4  ...                   Uknown           737          48.21            4.1   \n",
       "\n",
       "   Customer Rating Payment Method  First Usage  Last Usage  \\\n",
       "0              0.0         Uknown   2024-03-23  2024-03-23   \n",
       "1              0.0            UPI   2024-11-29  2024-11-29   \n",
       "2              4.9     Debit Card   2024-08-23  2024-08-23   \n",
       "3              5.0            UPI   2024-10-21  2024-10-21   \n",
       "4              4.3            UPI   2024-09-16  2024-09-16   \n",
       "\n",
       "   Events After First Usage    Month  \n",
       "0                         1  2024-03  \n",
       "1                         1  2024-11  \n",
       "2                         1  2024-08  \n",
       "3                         1  2024-10  \n",
       "4                         1  2024-09  \n",
       "\n",
       "[5 rows x 25 columns]"
      ]
     },
     "execution_count": 44,
     "metadata": {},
     "output_type": "execute_result"
    }
   ],
   "source": [
    "uber_data.head(5)"
   ]
  }
 ],
 "metadata": {
  "kernelspec": {
   "display_name": "Python 3",
   "language": "python",
   "name": "python3"
  },
  "language_info": {
   "codemirror_mode": {
    "name": "ipython",
    "version": 3
   },
   "file_extension": ".py",
   "mimetype": "text/x-python",
   "name": "python",
   "nbconvert_exporter": "python",
   "pygments_lexer": "ipython3",
   "version": "3.13.7"
  }
 },
 "nbformat": 4,
 "nbformat_minor": 5
}
